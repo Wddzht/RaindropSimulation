{
 "cells": [
  {
   "cell_type": "code",
   "execution_count": 1,
   "metadata": {},
   "outputs": [],
   "source": [
    "# %load \"E:\\_Python\\raindrop_simulation\\raindrop_simulation.py\"\n",
    "import tensorflow as tf\n",
    "import numpy as np\n",
    "\n",
    "import PIL.Image\n",
    "from io import BytesIO\n",
    "from IPython.display import clear_output, Image, display\n",
    "\n",
    "\n",
    "def DisplayArray(a, fmt='jpeg', rng=[0, 1]):\n",
    "    \"\"\"Display an array as a picture.\"\"\"\n",
    "    a = (a - rng[0]) / float(rng[1] - rng[0]) * 255\n",
    "    a = np.uint8(np.clip(a, 0, 255))\n",
    "    f = BytesIO()\n",
    "    PIL.Image.fromarray(a).save(f, fmt)\n",
    "    img = Image(data=f.getvalue())\n",
    "    display(img)\n",
    "\n",
    "\n",
    "def make_kernel(a):\n",
    "    \"\"\"Transform a 2D array into a convolution kernel\"\"\"\n",
    "    a = np.asarray(a)\n",
    "    a = a.reshape(list(a.shape) + [1, 1])\n",
    "    return tf.constant(a, dtype=1)\n",
    "\n",
    "\n",
    "def simple_conv(x, k):\n",
    "    \"\"\"A simplified 2D convolution operation\"\"\"\n",
    "    x = tf.expand_dims(tf.expand_dims(x, 0), -1)\n",
    "    y = tf.nn.depthwise_conv2d(x, k, [1, 1, 1, 1], padding='SAME')\n",
    "    return y[0, :, :, 0]\n",
    "\n",
    "\n",
    "def laplace(x):\n",
    "    \"\"\"Compute the 2D laplacian of an array\"\"\"\n",
    "    laplace_k = make_kernel([[0.5, 1.0, 0.5],\n",
    "                             [1.0, -6., 1.0],\n",
    "                             [0.5, 1.0, 0.5]])\n",
    "    return simple_conv(x, laplace_k)\n",
    "\n",
    "def rain_droping(u):\n",
    "    u_=u.eval()\n",
    "    for n in range(10): \n",
    "        a, b = np.random.randint(0, N, 2)\n",
    "        u_[a, b] = np.random.uniform()\n",
    "    u.assign(u_)\n",
    "    \n",
    "    \n",
    "def tensor_expand(tensor_Input,Num):\n",
    "    '''\n",
    "    张量自我复制扩展，将Num个tensor_Input串联起来，生成新的张量，\n",
    "    新的张量的shape=[tensor_Input.shape,Num]\n",
    "    :param tensor_Input:\n",
    "    :param Num:\n",
    "    :return:\n",
    "    '''\n",
    "    tensor_Input = tf.expand_dims(tensor_Input,axis=0)\n",
    "    tensor_Output = tensor_Input\n",
    "    for i in range(Num-1):\n",
    "        tensor_Output= tf.concat([tensor_Output,tensor_Input],axis=0)\n",
    "    return tensor_Output\n",
    "\n",
    "    \n",
    "def get_one_hot_matrix(height,width,position):\n",
    "    '''\n",
    "    生成一个 one_hot矩阵，shape=【height*width】，在position处的元素为1，其余元素为0\n",
    "    :param height:\n",
    "    :param width:\n",
    "    :param position: 格式为【h_Index,w_Index】,h_Index,w_Index为int格式\n",
    "    :return:\n",
    "    '''\n",
    "    col_length = height\n",
    "    row_length = width\n",
    "    col_one_position = position[0]\n",
    "    row_one_position = position[1]\n",
    "    rows_num = height\n",
    "    cols_num = width\n",
    " \n",
    "    single_row_one_hot = tf.one_hot(row_one_position, row_length, dtype=tf.float32)\n",
    "    single_col_one_hot = tf.one_hot(col_one_position, col_length, dtype=tf.float32)\n",
    " \n",
    "    one_hot_rows = tensor_expand(single_row_one_hot, rows_num)\n",
    "    one_hot_cols = tensor_expand(single_col_one_hot, cols_num)\n",
    "    one_hot_cols = tf.transpose(one_hot_cols)\n",
    " \n",
    "    one_hot_matrx = one_hot_rows * one_hot_cols\n",
    "    return one_hot_matrx\n"
   ]
  },
  {
   "cell_type": "code",
   "execution_count": 2,
   "metadata": {},
   "outputs": [
    {
     "data": {
      "image/jpeg": "[encoded data removed]",
      "text/plain": [
       "<IPython.core.display.Image object>"
      ]
     },
     "metadata": {},
     "output_type": "display_data"
    }
   ],
   "source": [
    "N = 300\n",
    "\n",
    "# Initial Conditions -- some rain drops hit a pond\n",
    "\n",
    "# Set everything to zero\n",
    "u_init = np.zeros([N, N], dtype=\"float32\")\n",
    "ut_init = np.zeros([N, N], dtype=\"float32\")\n",
    "\n",
    "# Some rain drops hit a pond at random points\n",
    "#for n in range(5):\n",
    "#    a, b = np.random.randint(0, N, 2)\n",
    "#    u_init[a, b] = np.random.uniform()\n",
    "\n",
    "DisplayArray(u_init, rng=[-0.1, 0.1])"
   ]
  },
  {
   "cell_type": "code",
   "execution_count": 8,
   "metadata": {
    "scrolled": true
   },
   "outputs": [
    {
     "data": {
      "image/jpeg": "[encoded data removed]",
      "text/plain": [
       "<IPython.core.display.Image object>"
      ]
     },
     "metadata": {},
     "output_type": "display_data"
    }
   ],
   "source": [
    "sess = tf.InteractiveSession()\n",
    "\n",
    "# Parameters:\n",
    "# eps -- time resolution\n",
    "# damping -- wave damping\n",
    "eps = tf.placeholder(tf.float32, shape=())\n",
    "damping = tf.placeholder(tf.float32, shape=())\n",
    "\n",
    "# Create variables for simulation state\n",
    "U  = tf.Variable(u_init)\n",
    "Ut = tf.Variable(ut_init)\n",
    "\n",
    "# Discretized PDE update rules\n",
    "U_ = U + eps * Ut\n",
    "Ut_ = Ut + eps * (laplace(U) - damping * Ut)\n",
    "\n",
    "# Operation to update the state\n",
    "step = tf.group(U.assign(U_), Ut.assign(Ut_))\n",
    "\n",
    "# Initialize state to initial conditions\n",
    "tf.initialize_all_variables().run()\n",
    "\n",
    "# Run 1000 steps of PDE\n",
    "for i in range(1000):\n",
    "    if i%250==0:\n",
    "        # add 10 raindrops per range\n",
    "        for n in range(10): \n",
    "            a, b = np.random.randint(0, N, 2)\n",
    "            one_hot_matrix = get_one_hot_matrix(N, N, [a, b])\n",
    "            tt= tf.group(U.assign(U - U*one_hot_matrix +one_hot_matrix*np.random.uniform()) )\n",
    "            tt.run()\n",
    "            \n",
    "    # Step simulation\n",
    "    step.run({eps: 0.03, damping: 0.04})\n",
    "    \n",
    "    # Visualize every 50 steps\n",
    "    if i % 50 == 0:\n",
    "        clear_output()\n",
    "        DisplayArray(U.eval(), rng=[-0.1, 0.1])\n"
   ]
  },
  {
   "cell_type": "code",
   "execution_count": null,
   "metadata": {},
   "outputs": [],
   "source": []
  }
 ],
 "metadata": {
  "kernelspec": {
   "display_name": "Python 3",
   "language": "python",
   "name": "python3"
  },
  "language_info": {
   "codemirror_mode": {
    "name": "ipython",
    "version": 3
   },
   "file_extension": ".py",
   "mimetype": "text/x-python",
   "name": "python",
   "nbconvert_exporter": "python",
   "pygments_lexer": "ipython3",
   "version": "3.7.3"
  }
 },
 "nbformat": 4,
 "nbformat_minor": 2
}
